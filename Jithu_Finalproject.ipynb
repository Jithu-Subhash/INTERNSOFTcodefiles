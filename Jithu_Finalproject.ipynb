{
 "cells": [
  {
   "cell_type": "code",
   "execution_count": 3,
   "metadata": {},
   "outputs": [],
   "source": [
    "import os\n",
    "import time\n",
    "import subprocess\n",
    "import json\n",
    "import cv2"
   ]
  },
  {
   "cell_type": "code",
   "execution_count": 4,
   "metadata": {},
   "outputs": [],
   "source": [
    "import wolframalpha\n",
    "import requests\n",
    "import webbrowser\n",
    "import wikipedia\n",
    "import datetime"
   ]
  },
  {
   "cell_type": "code",
   "execution_count": 5,
   "metadata": {},
   "outputs": [],
   "source": [
    "import speech_recognition as sr\n",
    "import pyttsx3\n",
    "from matplotlib import pyplot as plt"
   ]
  },
  {
   "cell_type": "code",
   "execution_count": 8,
   "metadata": {},
   "outputs": [],
   "source": [
    "assistant_name = \"Sandra\""
   ]
  },
  {
   "cell_type": "code",
   "execution_count": 9,
   "metadata": {},
   "outputs": [
    {
     "name": "stdout",
     "output_type": "stream",
     "text": [
      "Loading your person assistant Sandra\n"
     ]
    }
   ],
   "source": [
    "print('Loading your person assistant ' + assistant_name)"
   ]
  },
  {
   "cell_type": "code",
   "execution_count": 10,
   "metadata": {},
   "outputs": [],
   "source": [
    "engine = pyttsx3.init('sapi5')\n",
    "voices = engine.getProperty('voices')\n",
    "engine.setProperty('voice',voices[1].id)"
   ]
  },
  {
   "cell_type": "code",
   "execution_count": 11,
   "metadata": {},
   "outputs": [],
   "source": [
    "def speak(text):\n",
    "    print(text)\n",
    "    engine.say(text)\n",
    "    engine.runAndWait()"
   ]
  },
  {
   "cell_type": "code",
   "execution_count": 12,
   "metadata": {},
   "outputs": [],
   "source": [
    "def wishMe():\n",
    "    hour = datetime.datetime.now().hour\n",
    "    if hour >= 0 and hour < 12:\n",
    "        speak('Good Morning Jithu')\n",
    "    elif hour >= 12 and hour <= 18:\n",
    "        speak('Good Evening Jithu')\n",
    "    else:\n",
    "        speak('Good night Jithu')"
   ]
  },
  {
   "cell_type": "code",
   "execution_count": 13,
   "metadata": {},
   "outputs": [],
   "source": [
    "def takeCommand():\n",
    "    recognizer = sr.Recognizer()\n",
    "    with sr.Microphone() as source:\n",
    "        print(\"I am Listening...\")\n",
    "        audio = recognizer.listen(source)\n",
    "        \n",
    "        try:\n",
    "            statement = recognizer.recognize_google(audio, language='en-in')\n",
    "            print(f\"user said : {statement}\\n\")\n",
    "        except Exception as e:\n",
    "            speak(\"Pardon me, can you please repeat?\")\n",
    "            return \"None\"\n",
    "        return statement"
   ]
  },
  {
   "cell_type": "code",
   "execution_count": 14,
   "metadata": {},
   "outputs": [],
   "source": [
    "def clickPicture():\n",
    "    videoCaptureObject = cv2.VideoCapture(0)\n",
    "    result = True\n",
    "    while(result):\n",
    "        ret,frame = videoCaptureObject.read()\n",
    "        cv2.imwrite(\"MyPicture.jpg\",frame)\n",
    "        result = False\n",
    "    videoCaptureObject.release()\n",
    "    cv2.destroyAllWindows()\n",
    "    speak(assistant_name + \" clicked your picture :\")\n",
    "    img = cv2.imread('MyPicture.jpg')\n",
    "    gray = cv2.cvtColor(img, cv2.COLOR_BGR2RGB)\n",
    "    plt.imshow(gray)\n",
    "    plt.title('my picture')\n",
    "    plt.show()"
   ]
  },
  {
   "cell_type": "code",
   "execution_count": 15,
   "metadata": {},
   "outputs": [
    {
     "name": "stdout",
     "output_type": "stream",
     "text": [
      "Loading your personal assistant Sandra\n",
      "Good night Jithu\n"
     ]
    }
   ],
   "source": [
    "speak(\"Loading your personal assistant \" + assistant_name)\n",
    "wishMe()"
   ]
  },
  {
   "cell_type": "code",
   "execution_count": 17,
   "metadata": {},
   "outputs": [
    {
     "name": "stdout",
     "output_type": "stream",
     "text": [
      "How can I help you?\n",
      "I am Listening...\n",
      "user said : bye bye bye bye bye\n",
      "\n",
      "Sandra will see you later. Good bye\n"
     ]
    }
   ],
   "source": [
    "if __name__ == '__main__' :\n",
    "    while True:\n",
    "        speak(\"How can I help you?\")\n",
    "        statement = takeCommand().lower()\n",
    "        if statement == 0:\n",
    "            continue\n",
    "            \n",
    "        if \"good bye\" in statement or \"okay bye\" in statement or \"stop\" in statement or \"bye\" in statement:\n",
    "            speak(assistant_name + \" will see you later. Good bye\")\n",
    "            break\n",
    "            \n",
    "        if \"wikipedia\" in statement:\n",
    "            speak(\"Searching wikipedia...\")\n",
    "            statement = statement.replace(\"wikipedia\",\" \")\n",
    "            results = wikipedia.summary(statement, sentences = 3)\n",
    "            speak(\"According to wikipedia...\")\n",
    "            speak(results)\n",
    "            \n",
    "        elif \"open youtube\" in statement:\n",
    "            speak(\"Opening Youtube..\")\n",
    "            webbrowser.open_new_tab(\"https://www.youtube.com\")\n",
    "            time.sleep(5)\n",
    "            \n",
    "        elif \"open google\" in statement:\n",
    "            speak(\"Opening Google search..\")\n",
    "            webbrowser.open_new_tab(\"https://www.google.com\")\n",
    "            time.sleep(5)\n",
    "            \n",
    "        elif \"open g mail\" in statement:\n",
    "            speak(\"Opening G mail..\")\n",
    "            webbrowser.open_new_tab(\"https://www.gmail.com\")\n",
    "            time.sleep(5)\n",
    "            \n",
    "        elif \"weather\" in statement:\n",
    "            api_key = \"886705b4c1182eb1c69f28eb8c520e20\"\n",
    "            base_url = \"https://api.openweathermap.org/data/2.5/weather?\"\n",
    "            speak(\"Whats the city name?\")\n",
    "            city_name = takeCommand()\n",
    "            complete_url = base_url + \"q=\" + city_name + \"&appid=\" + api_key\n",
    "            response = requests.get(complete_url)\n",
    "            json_data = response.json()\n",
    "            if json_data[\"cod\"] != \"404\" :\n",
    "                print(json_data)\n",
    "                weather_data = json_data[\"main\"]\n",
    "                current_temperature =  weather_data[\"temp\"]\n",
    "                current_humidity =  weather_data[\"humidity\"]\n",
    "                x = json_data[\"weather\"]\n",
    "                weather_description = x[0][\"description\"]\n",
    "                speak(\"The temperature in Kelvin is \" + str(current_temperature) + \n",
    "                     \"\\nThe humidity in percentage is \" + str(current_humidity) +\n",
    "                     \"\\nWeather description is \" + str(weather_description))\n",
    "            else:\n",
    "                speak(\"City not found\")\n",
    "                \n",
    "        elif \"time\" in statement:\n",
    "            strTime = datetime.datetime.now().strftime(\"%H:%M:%S\")\n",
    "            speak(f\"The time is {strTime}\")\n",
    "            \n",
    "        elif \"who are you\" in statement or \"what can you do\" in statement:\n",
    "            speak(\"Hey, my name is \" + assistant_name + \".\\n\" + \n",
    "                 \"I can do tasks such as opening google, wikipedia and youtube.\\n\" +\n",
    "                 \"Ask me the time or weather or to take a picture of you.\")\n",
    "        \n",
    "        elif \"made you\" in statement or \"created you\" in statement or \"invented you\" in statement:\n",
    "            speak(\"I was built by Jithu\")\n",
    "            \n",
    "        elif \"open stack overflow\" in statement:\n",
    "            webbrowser.open_new_tab(\"https://stackoverflow.com/login\")\n",
    "            time.sleep(5)\n",
    "        \n",
    "        elif \"news\" in statement:\n",
    "            news = webbrowser.open_new_tab(\"https://timesofindia.indiatimes.com/home/headlines\")\n",
    "            speak(\"Here are some headlines for the day.\")\n",
    "            time.sleep(5)\n",
    "            \n",
    "        elif \"search\" in statement:\n",
    "            statement = statement.replace(\"search\",\" \")\n",
    "            webbrowser.open_new_tab(statement)\n",
    "            time.sleep(5)\n",
    "            \n",
    "        elif \"ask\" in statement or \"answer me\" in statement:\n",
    "            speak(\"I can answer to computational and geographical question too.. Try me.\\n\" +\n",
    "                 \"What do you want to ask?\")\n",
    "            question = takeCommand()\n",
    "            app_id = \"R2K75H-7ELALHR35X\"\n",
    "            client = wolframalpha.Client(app_id)\n",
    "            res = client.query(question)\n",
    "            answer = next(res.results).text\n",
    "            speak(answer)\n",
    "            \n",
    "        elif \"log off\" in statement or \"sign out\" in statement or \"shut down\" in statement:\n",
    "            speak(\"Okay, Your PC will shut down in 10 seconds.\\n\" + \n",
    "                 \"Make sure you save and have exited from all applications.\\n\" +\n",
    "                 \"That's good bye from \" + assistant_name + \".\\n See you.\")\n",
    "            subprocess.call([\"shutdown\",\"/1\"])\n",
    "            \n",
    "        elif \"my picture\" in statement or \"my image\" in statement or \"camera\" in statement or \"photo\" in statement:\n",
    "            clickPicture()\n",
    "            time.sleep(5)\n",
    "            \n",
    "        elif \"instagram\" in statement:\n",
    "            speak(\"Please enter your insta username\")\n",
    "            uname = input()\n",
    "            webbrowser.open_new_tab(\"https://www.instagram.com/\" + uname + \"/\")\n",
    "        \n",
    "    time.sleep(7)"
   ]
  },
  {
   "cell_type": "code",
   "execution_count": null,
   "metadata": {},
   "outputs": [],
   "source": []
  }
 ],
 "metadata": {
  "kernelspec": {
   "display_name": "Python 3",
   "language": "python",
   "name": "python3"
  },
  "language_info": {
   "codemirror_mode": {
    "name": "ipython",
    "version": 3
   },
   "file_extension": ".py",
   "mimetype": "text/x-python",
   "name": "python",
   "nbconvert_exporter": "python",
   "pygments_lexer": "ipython3",
   "version": "3.8.5"
  }
 },
 "nbformat": 4,
 "nbformat_minor": 4
}
